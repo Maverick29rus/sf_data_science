{
 "cells": [
  {
   "attachments": {},
   "cell_type": "markdown",
   "metadata": {},
   "source": [
    "Напишите функцию brackets(line), которая определяет, является ли последовательность из круглых скобок line правильной.\n",
    "\n",
    "Примечание 1. Какая последовательность скобок правильная?\n",
    "\n",
    "Правильной скобочной последовательностью назовём такую последовательность скобок, в которой для каждой открывающей скобки есть последующая соответствующая ей закрывающая скобка. Соответственно, остальные скобочные последовательности назовём неправильными. Пустую строку будем считать правильной последовательностью.\n",
    "\n",
    "Примечание 2.Для решения этой задачи потребуется использовать стек.\n",
    "\n",
    "Посимвольно переберите строку. Если встретилась открывающаяся скобка, положите её в стек. Если встретилась закрывающаяся скобка, извлеките скобку из стека.\n",
    "\n",
    "Если стек пустой, то есть извлечь скобку нельзя, последовательность неправильная.\n",
    "Если строка закончилась и стек стал пустым, последовательность правильная.\n",
    "Если в стеке остались скобки, последовательность неправильная."
   ]
  },
  {
   "cell_type": "code",
   "execution_count": null,
   "metadata": {},
   "outputs": [],
   "source": [
    "from collections import deque\n",
    "\n",
    "def brackets(line):\n",
    "    # Напишите тело функции\n",
    "    stack = deque()\n",
    "    for i in line:\n",
    "        if i == '(':\n",
    "            stack.append(i)\n",
    "        elif i == ')':\n",
    "            if len(stack) == 0:\n",
    "                return False\n",
    "            stack.pop()\n",
    "    if len(stack) == 0:\n",
    "        return True\n",
    "    return False"
   ]
  },
  {
   "cell_type": "code",
   "execution_count": null,
   "metadata": {},
   "outputs": [],
   "source": [
    "from collections import deque\n",
    "def brackets(line):\n",
    "    a = line.count(\"(\")\n",
    "    b = line.count(\")\")\n",
    "    if (a == b or len(line) == 0) and not line[0] == \")\":\n",
    "        return True\n",
    "    return False    "
   ]
  },
  {
   "attachments": {},
   "cell_type": "markdown",
   "metadata": {},
   "source": [
    "Напишите функцию task_manager(tasks), которая принимает список задач tasks для нескольких серверов. Каждый элемент списка состоит из кортежа (<номер задачи>, <название сервера>, <высокий приоритет задачи>).\n",
    "\n",
    "Функция должна создавать словарь и заполнять его задачами по следующему принципу: название сервера — ключ, по которому хранится очередь задач для конкретного сервера.\n",
    "\n",
    "Если поступает задача без высокого приоритета (последний элемент кортежа — False), добавить номер задачи в конец очереди. Если приоритет высокий, добавить номер в начало.\n",
    "\n",
    "Для словаря используйте defaultdict, для очереди — deque.\n",
    "\n",
    "Функция возвращает полученный словарь с задачами.\n",
    "\n",
    "Пример\n",
    "\n",
    "\n",
    "tasks = [(36871, 'office', False),\n",
    "(40690, 'office', False),\n",
    "(35364, 'voltage', False),\n",
    "(41667, 'voltage', True),\n",
    "(33850, 'office', False)]\n",
    "\n",
    "print(task_manager(tasks))\n",
    "# defaultdict(, {'voltage': deque([41667, 35364]),\n",
    "# 'office': deque([36871, 40690, 33850])})"
   ]
  },
  {
   "cell_type": "code",
   "execution_count": null,
   "metadata": {},
   "outputs": [],
   "source": [
    "from collections import defaultdict, deque\n",
    "\n",
    "def task_manager(tasks):\n",
    "    servers = defaultdict(deque)\n",
    "    for task in tasks:\n",
    "        if task[-1]:\n",
    "            servers[task[1]].appendleft(task[0])\n",
    "        else:\n",
    "            servers[task[1]].append(task[0])\n",
    "    return servers"
   ]
  }
 ],
 "metadata": {
  "language_info": {
   "name": "python"
  },
  "orig_nbformat": 4
 },
 "nbformat": 4,
 "nbformat_minor": 2
}
